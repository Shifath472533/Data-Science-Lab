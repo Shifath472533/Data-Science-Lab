{
 "cells": [
  {
   "cell_type": "code",
   "execution_count": 13,
   "metadata": {},
   "outputs": [],
   "source": [
    "import requests\n",
    "from bs4 import BeautifulSoup\n",
    "import pandas as pd\n",
    "import numpy as np\n",
    "import scipy as sp\n",
    "import matplotlib as mpl \n",
    "import matplotlib.cm as cm \n",
    "import matplotlib.pyplot as plt\n",
    "import seaborn.apionly as sns"
   ]
  },
  {
   "cell_type": "code",
   "execution_count": 14,
   "metadata": {},
   "outputs": [],
   "source": [
    "url = \"https://en.wikipedia.org/wiki/List_of_Game_of_Thrones_episodes\"\n",
    "response = requests.get(url)\n",
    "soup = BeautifulSoup(response.text,'html.parser')"
   ]
  },
  {
   "cell_type": "code",
   "execution_count": 5,
   "metadata": {},
   "outputs": [],
   "source": [
    "tables= soup.find_all('table',{'class':'wikitable plainrowheaders wikiepisodetable'})\n",
    "data = []\n",
    "columns = []\n",
    "for table in tables:\n",
    "    rows = table.find_all('tr')\n",
    "    if(tables.index(table)==0):\n",
    "        columns = [v.text.replace('\\u200a[20]','') for v in rows[0].find_all('th')]\n",
    "\n",
    "    for i in range(1, len(rows)):\n",
    "        ths = rows[i].find_all('th',{'scope':'row'})\n",
    "        valuex = [th.text for th in ths]\n",
    "        tds = rows[i].find_all('td')\n",
    "        value = []\n",
    "        for td in tds:\n",
    "            if(td.find('sup')):\n",
    "                value.append(td.text[0:5].replace('[',''))\n",
    "            else:\n",
    "                value.append(td.text)\n",
    "        #value = [td.text for td in tds]\n",
    "        valuey = valuex + value\n",
    "        #print(valuey)\n",
    "        data.append(valuey)\n",
    "    if(tables.index(table)==7):\n",
    "        break"
   ]
  },
  {
   "cell_type": "code",
   "execution_count": 6,
   "metadata": {},
   "outputs": [],
   "source": [
    "save_dir = 'E://Data Science/Data Science Lab/assignment/game_of_thrones_data.csv'"
   ]
  },
  {
   "cell_type": "code",
   "execution_count": 7,
   "metadata": {},
   "outputs": [],
   "source": [
    "df = pd.DataFrame(data, columns = columns)\n",
    "df.to_csv(save_dir, encoding='utf-8', index=False)"
   ]
  },
  {
   "cell_type": "code",
   "execution_count": 8,
   "metadata": {},
   "outputs": [
    {
     "data": {
      "text/html": [
       "<div>\n",
       "<style scoped>\n",
       "    .dataframe tbody tr th:only-of-type {\n",
       "        vertical-align: middle;\n",
       "    }\n",
       "\n",
       "    .dataframe tbody tr th {\n",
       "        vertical-align: top;\n",
       "    }\n",
       "\n",
       "    .dataframe thead th {\n",
       "        text-align: right;\n",
       "    }\n",
       "</style>\n",
       "<table border=\"1\" class=\"dataframe\">\n",
       "  <thead>\n",
       "    <tr style=\"text-align: right;\">\n",
       "      <th></th>\n",
       "      <th>No.overall</th>\n",
       "      <th>No. inseason</th>\n",
       "      <th>Title</th>\n",
       "      <th>Directed by</th>\n",
       "      <th>Written by</th>\n",
       "      <th>Original air date</th>\n",
       "      <th>U.S. viewers(millions)</th>\n",
       "    </tr>\n",
       "  </thead>\n",
       "  <tbody>\n",
       "    <tr>\n",
       "      <td>0</td>\n",
       "      <td>1</td>\n",
       "      <td>1</td>\n",
       "      <td>\"Winter Is Coming\"</td>\n",
       "      <td>Tim Van Patten</td>\n",
       "      <td>David Benioff &amp; D. B. Weiss</td>\n",
       "      <td>April 17, 2011 (2011-04-17)</td>\n",
       "      <td>2.22</td>\n",
       "    </tr>\n",
       "    <tr>\n",
       "      <td>1</td>\n",
       "      <td>2</td>\n",
       "      <td>2</td>\n",
       "      <td>\"The Kingsroad\"</td>\n",
       "      <td>Tim Van Patten</td>\n",
       "      <td>David Benioff &amp; D. B. Weiss</td>\n",
       "      <td>April 24, 2011 (2011-04-24)</td>\n",
       "      <td>2.20</td>\n",
       "    </tr>\n",
       "    <tr>\n",
       "      <td>2</td>\n",
       "      <td>3</td>\n",
       "      <td>3</td>\n",
       "      <td>\"Lord Snow\"</td>\n",
       "      <td>Brian Kirk</td>\n",
       "      <td>David Benioff &amp; D. B. Weiss</td>\n",
       "      <td>May 1, 2011 (2011-05-01)</td>\n",
       "      <td>2.44</td>\n",
       "    </tr>\n",
       "    <tr>\n",
       "      <td>3</td>\n",
       "      <td>4</td>\n",
       "      <td>4</td>\n",
       "      <td>\"Cripples, Bastards, and Broken Things\"</td>\n",
       "      <td>Brian Kirk</td>\n",
       "      <td>Bryan Cogman</td>\n",
       "      <td>May 8, 2011 (2011-05-08)</td>\n",
       "      <td>2.45</td>\n",
       "    </tr>\n",
       "    <tr>\n",
       "      <td>4</td>\n",
       "      <td>5</td>\n",
       "      <td>5</td>\n",
       "      <td>\"The Wolf and the Lion\"</td>\n",
       "      <td>Brian Kirk</td>\n",
       "      <td>David Benioff &amp; D. B. Weiss</td>\n",
       "      <td>May 15, 2011 (2011-05-15)</td>\n",
       "      <td>2.58</td>\n",
       "    </tr>\n",
       "  </tbody>\n",
       "</table>\n",
       "</div>"
      ],
      "text/plain": [
       "   No.overall  No. inseason                                    Title  \\\n",
       "0           1             1                       \"Winter Is Coming\"   \n",
       "1           2             2                          \"The Kingsroad\"   \n",
       "2           3             3                              \"Lord Snow\"   \n",
       "3           4             4  \"Cripples, Bastards, and Broken Things\"   \n",
       "4           5             5                  \"The Wolf and the Lion\"   \n",
       "\n",
       "      Directed by                   Written by            Original air date  \\\n",
       "0  Tim Van Patten  David Benioff & D. B. Weiss  April 17, 2011 (2011-04-17)   \n",
       "1  Tim Van Patten  David Benioff & D. B. Weiss  April 24, 2011 (2011-04-24)   \n",
       "2      Brian Kirk  David Benioff & D. B. Weiss     May 1, 2011 (2011-05-01)   \n",
       "3      Brian Kirk                 Bryan Cogman     May 8, 2011 (2011-05-08)   \n",
       "4      Brian Kirk  David Benioff & D. B. Weiss    May 15, 2011 (2011-05-15)   \n",
       "\n",
       "   U.S. viewers(millions)  \n",
       "0                    2.22  \n",
       "1                    2.20  \n",
       "2                    2.44  \n",
       "3                    2.45  \n",
       "4                    2.58  "
      ]
     },
     "execution_count": 8,
     "metadata": {},
     "output_type": "execute_result"
    }
   ],
   "source": [
    "game_of_thrones_df= pd.read_csv(save_dir)\n",
    "game_of_thrones_df.head()"
   ]
  },
  {
   "cell_type": "markdown",
   "metadata": {},
   "source": [
    "### Formatting Table Header Names"
   ]
  },
  {
   "cell_type": "code",
   "execution_count": 9,
   "metadata": {},
   "outputs": [
    {
     "data": {
      "text/html": [
       "<div>\n",
       "<style scoped>\n",
       "    .dataframe tbody tr th:only-of-type {\n",
       "        vertical-align: middle;\n",
       "    }\n",
       "\n",
       "    .dataframe tbody tr th {\n",
       "        vertical-align: top;\n",
       "    }\n",
       "\n",
       "    .dataframe thead th {\n",
       "        text-align: right;\n",
       "    }\n",
       "</style>\n",
       "<table border=\"1\" class=\"dataframe\">\n",
       "  <thead>\n",
       "    <tr style=\"text-align: right;\">\n",
       "      <th></th>\n",
       "      <th>Number_Overall</th>\n",
       "      <th>Number_in_season</th>\n",
       "      <th>Title</th>\n",
       "      <th>Director</th>\n",
       "      <th>Writer</th>\n",
       "      <th>Air_Date</th>\n",
       "      <th>Viewers</th>\n",
       "    </tr>\n",
       "  </thead>\n",
       "  <tbody>\n",
       "    <tr>\n",
       "      <td>0</td>\n",
       "      <td>1</td>\n",
       "      <td>1</td>\n",
       "      <td>\"Winter Is Coming\"</td>\n",
       "      <td>Tim Van Patten</td>\n",
       "      <td>David Benioff &amp; D. B. Weiss</td>\n",
       "      <td>April 17, 2011 (2011-04-17)</td>\n",
       "      <td>2.22</td>\n",
       "    </tr>\n",
       "    <tr>\n",
       "      <td>1</td>\n",
       "      <td>2</td>\n",
       "      <td>2</td>\n",
       "      <td>\"The Kingsroad\"</td>\n",
       "      <td>Tim Van Patten</td>\n",
       "      <td>David Benioff &amp; D. B. Weiss</td>\n",
       "      <td>April 24, 2011 (2011-04-24)</td>\n",
       "      <td>2.20</td>\n",
       "    </tr>\n",
       "    <tr>\n",
       "      <td>2</td>\n",
       "      <td>3</td>\n",
       "      <td>3</td>\n",
       "      <td>\"Lord Snow\"</td>\n",
       "      <td>Brian Kirk</td>\n",
       "      <td>David Benioff &amp; D. B. Weiss</td>\n",
       "      <td>May 1, 2011 (2011-05-01)</td>\n",
       "      <td>2.44</td>\n",
       "    </tr>\n",
       "    <tr>\n",
       "      <td>3</td>\n",
       "      <td>4</td>\n",
       "      <td>4</td>\n",
       "      <td>\"Cripples, Bastards, and Broken Things\"</td>\n",
       "      <td>Brian Kirk</td>\n",
       "      <td>Bryan Cogman</td>\n",
       "      <td>May 8, 2011 (2011-05-08)</td>\n",
       "      <td>2.45</td>\n",
       "    </tr>\n",
       "    <tr>\n",
       "      <td>4</td>\n",
       "      <td>5</td>\n",
       "      <td>5</td>\n",
       "      <td>\"The Wolf and the Lion\"</td>\n",
       "      <td>Brian Kirk</td>\n",
       "      <td>David Benioff &amp; D. B. Weiss</td>\n",
       "      <td>May 15, 2011 (2011-05-15)</td>\n",
       "      <td>2.58</td>\n",
       "    </tr>\n",
       "  </tbody>\n",
       "</table>\n",
       "</div>"
      ],
      "text/plain": [
       "   Number_Overall  Number_in_season                                    Title  \\\n",
       "0               1                 1                       \"Winter Is Coming\"   \n",
       "1               2                 2                          \"The Kingsroad\"   \n",
       "2               3                 3                              \"Lord Snow\"   \n",
       "3               4                 4  \"Cripples, Bastards, and Broken Things\"   \n",
       "4               5                 5                  \"The Wolf and the Lion\"   \n",
       "\n",
       "         Director                       Writer                     Air_Date  \\\n",
       "0  Tim Van Patten  David Benioff & D. B. Weiss  April 17, 2011 (2011-04-17)   \n",
       "1  Tim Van Patten  David Benioff & D. B. Weiss  April 24, 2011 (2011-04-24)   \n",
       "2      Brian Kirk  David Benioff & D. B. Weiss     May 1, 2011 (2011-05-01)   \n",
       "3      Brian Kirk                 Bryan Cogman     May 8, 2011 (2011-05-08)   \n",
       "4      Brian Kirk  David Benioff & D. B. Weiss    May 15, 2011 (2011-05-15)   \n",
       "\n",
       "   Viewers  \n",
       "0     2.22  \n",
       "1     2.20  \n",
       "2     2.44  \n",
       "3     2.45  \n",
       "4     2.58  "
      ]
     },
     "execution_count": 9,
     "metadata": {},
     "output_type": "execute_result"
    }
   ],
   "source": [
    "game_of_thrones_df=game_of_thrones_df.rename(columns={\"No.overall\":\"Number_Overall\",\"No. inseason\":\"Number_in_season\",\"U.S. viewers(millions)\":\"Viewers\",\"Directed by\":\"Director\",\"Written by\":\"Writer\",\"Original air date\":\"Air_Date\"})\n",
    "game_of_thrones_df.head()"
   ]
  },
  {
   "cell_type": "code",
   "execution_count": 10,
   "metadata": {},
   "outputs": [
    {
     "data": {
      "text/html": [
       "<div>\n",
       "<style scoped>\n",
       "    .dataframe tbody tr th:only-of-type {\n",
       "        vertical-align: middle;\n",
       "    }\n",
       "\n",
       "    .dataframe tbody tr th {\n",
       "        vertical-align: top;\n",
       "    }\n",
       "\n",
       "    .dataframe thead th {\n",
       "        text-align: right;\n",
       "    }\n",
       "</style>\n",
       "<table border=\"1\" class=\"dataframe\">\n",
       "  <thead>\n",
       "    <tr style=\"text-align: right;\">\n",
       "      <th></th>\n",
       "      <th>Number_Overall</th>\n",
       "      <th>Number_in_season</th>\n",
       "      <th>Title</th>\n",
       "      <th>Director</th>\n",
       "      <th>Writer</th>\n",
       "      <th>Air_Date</th>\n",
       "      <th>Viewers</th>\n",
       "    </tr>\n",
       "  </thead>\n",
       "  <tbody>\n",
       "    <tr>\n",
       "      <td>0</td>\n",
       "      <td>1</td>\n",
       "      <td>1</td>\n",
       "      <td>\"Winter Is Coming\"</td>\n",
       "      <td>Tim Van Patten</td>\n",
       "      <td>David Benioff &amp; D. B. Weiss</td>\n",
       "      <td>April 17, 2011 (2011-04-17)</td>\n",
       "      <td>2.22</td>\n",
       "    </tr>\n",
       "    <tr>\n",
       "      <td>1</td>\n",
       "      <td>2</td>\n",
       "      <td>2</td>\n",
       "      <td>\"The Kingsroad\"</td>\n",
       "      <td>Tim Van Patten</td>\n",
       "      <td>David Benioff &amp; D. B. Weiss</td>\n",
       "      <td>April 24, 2011 (2011-04-24)</td>\n",
       "      <td>2.20</td>\n",
       "    </tr>\n",
       "    <tr>\n",
       "      <td>2</td>\n",
       "      <td>3</td>\n",
       "      <td>3</td>\n",
       "      <td>\"Lord Snow\"</td>\n",
       "      <td>Brian Kirk</td>\n",
       "      <td>David Benioff &amp; D. B. Weiss</td>\n",
       "      <td>May 1, 2011 (2011-05-01)</td>\n",
       "      <td>2.44</td>\n",
       "    </tr>\n",
       "    <tr>\n",
       "      <td>3</td>\n",
       "      <td>4</td>\n",
       "      <td>4</td>\n",
       "      <td>\"Cripples, Bastards, and Broken Things\"</td>\n",
       "      <td>Brian Kirk</td>\n",
       "      <td>Bryan Cogman</td>\n",
       "      <td>May 8, 2011 (2011-05-08)</td>\n",
       "      <td>2.45</td>\n",
       "    </tr>\n",
       "    <tr>\n",
       "      <td>4</td>\n",
       "      <td>5</td>\n",
       "      <td>5</td>\n",
       "      <td>\"The Wolf and the Lion\"</td>\n",
       "      <td>Brian Kirk</td>\n",
       "      <td>David Benioff &amp; D. B. Weiss</td>\n",
       "      <td>May 15, 2011 (2011-05-15)</td>\n",
       "      <td>2.58</td>\n",
       "    </tr>\n",
       "  </tbody>\n",
       "</table>\n",
       "</div>"
      ],
      "text/plain": [
       "   Number_Overall  Number_in_season                                    Title  \\\n",
       "0               1                 1                       \"Winter Is Coming\"   \n",
       "1               2                 2                          \"The Kingsroad\"   \n",
       "2               3                 3                              \"Lord Snow\"   \n",
       "3               4                 4  \"Cripples, Bastards, and Broken Things\"   \n",
       "4               5                 5                  \"The Wolf and the Lion\"   \n",
       "\n",
       "         Director                       Writer                     Air_Date  \\\n",
       "0  Tim Van Patten  David Benioff & D. B. Weiss  April 17, 2011 (2011-04-17)   \n",
       "1  Tim Van Patten  David Benioff & D. B. Weiss  April 24, 2011 (2011-04-24)   \n",
       "2      Brian Kirk  David Benioff & D. B. Weiss     May 1, 2011 (2011-05-01)   \n",
       "3      Brian Kirk                 Bryan Cogman     May 8, 2011 (2011-05-08)   \n",
       "4      Brian Kirk  David Benioff & D. B. Weiss    May 15, 2011 (2011-05-15)   \n",
       "\n",
       "   Viewers  \n",
       "0     2.22  \n",
       "1     2.20  \n",
       "2     2.44  \n",
       "3     2.45  \n",
       "4     2.58  "
      ]
     },
     "execution_count": 10,
     "metadata": {},
     "output_type": "execute_result"
    }
   ],
   "source": [
    "game_of_thrones_df= game_of_thrones_df.replace({\"Story by : David Benioff & D. B. Weiss Teleplay by : Jane Espenson and David Benioff & D. B. Weiss\":\"David Benioff & D. B. Weiss\"})\n",
    "game_of_thrones_df.head()"
   ]
  },
  {
   "cell_type": "code",
   "execution_count": 11,
   "metadata": {},
   "outputs": [
    {
     "name": "stdout",
     "output_type": "stream",
     "text": [
      "(73, 7)\n",
      "Index(['Number_Overall', 'Number_in_season', 'Title', 'Director', 'Writer',\n",
      "       'Air_Date', 'Viewers'],\n",
      "      dtype='object')\n"
     ]
    }
   ],
   "source": [
    "print(game_of_thrones_df.shape)\n",
    "print(game_of_thrones_df.columns)"
   ]
  },
  {
   "cell_type": "markdown",
   "metadata": {},
   "source": [
    "### Bar chart of episode against views"
   ]
  },
  {
   "cell_type": "code",
   "execution_count": 25,
   "metadata": {},
   "outputs": [
    {
     "data": {
      "image/png": "[encoded data removed]",
      "text/plain": [
       "<Figure size 6480x1440 with 1 Axes>"
      ]
     },
     "metadata": {
      "needs_background": "light"
     },
     "output_type": "display_data"
    }
   ],
   "source": [
    "x = df['No.overall']\n",
    "y = df['U.S. viewers(millions)']\n",
    "fig = plt.figure(figsize=(90,20))\n",
    "ax1 = fig.add_subplot(131)\n",
    "ax1.bar(x,y)\n",
    "ax1.set_xlabel('Episode Number')\n",
    "ax1.set_ylabel('Viewers in Millions')\n",
    "plt.show()"
   ]
  },
  {
   "cell_type": "code",
   "execution_count": 28,
   "metadata": {},
   "outputs": [
    {
     "data": {
      "text/plain": [
       "count    73.000000\n",
       "mean      5.191781\n",
       "std       2.821827\n",
       "min       1.000000\n",
       "25%       3.000000\n",
       "50%       5.000000\n",
       "75%       7.000000\n",
       "max      10.000000\n",
       "Name: Number_in_season, dtype: float64"
      ]
     },
     "execution_count": 28,
     "metadata": {},
     "output_type": "execute_result"
    }
   ],
   "source": [
    "game_of_thrones_df['Number_in_season'].describe()"
   ]
  },
  {
   "cell_type": "code",
   "execution_count": 29,
   "metadata": {},
   "outputs": [],
   "source": [
    "season = []\n",
    "count = 0\n",
    "for x in df.itertuples():\n",
    "    if(x._2 == '1'):\n",
    "        count += 1\n",
    "    season.append(count)"
   ]
  },
  {
   "cell_type": "code",
   "execution_count": 30,
   "metadata": {},
   "outputs": [
    {
     "data": {
      "text/html": [
       "<div>\n",
       "<style scoped>\n",
       "    .dataframe tbody tr th:only-of-type {\n",
       "        vertical-align: middle;\n",
       "    }\n",
       "\n",
       "    .dataframe tbody tr th {\n",
       "        vertical-align: top;\n",
       "    }\n",
       "\n",
       "    .dataframe thead th {\n",
       "        text-align: right;\n",
       "    }\n",
       "</style>\n",
       "<table border=\"1\" class=\"dataframe\">\n",
       "  <thead>\n",
       "    <tr style=\"text-align: right;\">\n",
       "      <th></th>\n",
       "      <th>Number_Overall</th>\n",
       "      <th>Number_in_season</th>\n",
       "      <th>Title</th>\n",
       "      <th>Director</th>\n",
       "      <th>Writer</th>\n",
       "      <th>Air_Date</th>\n",
       "      <th>Viewers</th>\n",
       "      <th>Season</th>\n",
       "    </tr>\n",
       "  </thead>\n",
       "  <tbody>\n",
       "    <tr>\n",
       "      <td>0</td>\n",
       "      <td>1</td>\n",
       "      <td>1</td>\n",
       "      <td>\"Winter Is Coming\"</td>\n",
       "      <td>Tim Van Patten</td>\n",
       "      <td>David Benioff &amp; D. B. Weiss</td>\n",
       "      <td>April 17, 2011 (2011-04-17)</td>\n",
       "      <td>2.22</td>\n",
       "      <td>1</td>\n",
       "    </tr>\n",
       "    <tr>\n",
       "      <td>1</td>\n",
       "      <td>2</td>\n",
       "      <td>2</td>\n",
       "      <td>\"The Kingsroad\"</td>\n",
       "      <td>Tim Van Patten</td>\n",
       "      <td>David Benioff &amp; D. B. Weiss</td>\n",
       "      <td>April 24, 2011 (2011-04-24)</td>\n",
       "      <td>2.20</td>\n",
       "      <td>1</td>\n",
       "    </tr>\n",
       "    <tr>\n",
       "      <td>2</td>\n",
       "      <td>3</td>\n",
       "      <td>3</td>\n",
       "      <td>\"Lord Snow\"</td>\n",
       "      <td>Brian Kirk</td>\n",
       "      <td>David Benioff &amp; D. B. Weiss</td>\n",
       "      <td>May 1, 2011 (2011-05-01)</td>\n",
       "      <td>2.44</td>\n",
       "      <td>1</td>\n",
       "    </tr>\n",
       "    <tr>\n",
       "      <td>3</td>\n",
       "      <td>4</td>\n",
       "      <td>4</td>\n",
       "      <td>\"Cripples, Bastards, and Broken Things\"</td>\n",
       "      <td>Brian Kirk</td>\n",
       "      <td>Bryan Cogman</td>\n",
       "      <td>May 8, 2011 (2011-05-08)</td>\n",
       "      <td>2.45</td>\n",
       "      <td>1</td>\n",
       "    </tr>\n",
       "    <tr>\n",
       "      <td>4</td>\n",
       "      <td>5</td>\n",
       "      <td>5</td>\n",
       "      <td>\"The Wolf and the Lion\"</td>\n",
       "      <td>Brian Kirk</td>\n",
       "      <td>David Benioff &amp; D. B. Weiss</td>\n",
       "      <td>May 15, 2011 (2011-05-15)</td>\n",
       "      <td>2.58</td>\n",
       "      <td>1</td>\n",
       "    </tr>\n",
       "    <tr>\n",
       "      <td>...</td>\n",
       "      <td>...</td>\n",
       "      <td>...</td>\n",
       "      <td>...</td>\n",
       "      <td>...</td>\n",
       "      <td>...</td>\n",
       "      <td>...</td>\n",
       "      <td>...</td>\n",
       "      <td>...</td>\n",
       "    </tr>\n",
       "    <tr>\n",
       "      <td>68</td>\n",
       "      <td>69</td>\n",
       "      <td>2</td>\n",
       "      <td>\"A Knight of the Seven Kingdoms\"</td>\n",
       "      <td>David Nutter</td>\n",
       "      <td>Bryan Cogman</td>\n",
       "      <td>April 21, 2019 (2019-04-21)</td>\n",
       "      <td>10.29</td>\n",
       "      <td>8</td>\n",
       "    </tr>\n",
       "    <tr>\n",
       "      <td>69</td>\n",
       "      <td>70</td>\n",
       "      <td>3</td>\n",
       "      <td>\"The Long Night\"</td>\n",
       "      <td>Miguel Sapochnik</td>\n",
       "      <td>David Benioff &amp; D. B. Weiss</td>\n",
       "      <td>April 28, 2019 (2019-04-28)</td>\n",
       "      <td>12.02</td>\n",
       "      <td>8</td>\n",
       "    </tr>\n",
       "    <tr>\n",
       "      <td>70</td>\n",
       "      <td>71</td>\n",
       "      <td>4</td>\n",
       "      <td>\"The Last of the Starks\"</td>\n",
       "      <td>David Nutter</td>\n",
       "      <td>David Benioff &amp; D. B. Weiss</td>\n",
       "      <td>May 5, 2019 (2019-05-05)</td>\n",
       "      <td>11.80</td>\n",
       "      <td>8</td>\n",
       "    </tr>\n",
       "    <tr>\n",
       "      <td>71</td>\n",
       "      <td>72</td>\n",
       "      <td>5</td>\n",
       "      <td>\"The Bells\"</td>\n",
       "      <td>Miguel Sapochnik</td>\n",
       "      <td>David Benioff &amp; D. B. Weiss</td>\n",
       "      <td>May 12, 2019 (2019-05-12)</td>\n",
       "      <td>12.48</td>\n",
       "      <td>8</td>\n",
       "    </tr>\n",
       "    <tr>\n",
       "      <td>72</td>\n",
       "      <td>73</td>\n",
       "      <td>6</td>\n",
       "      <td>\"The Iron Throne\"</td>\n",
       "      <td>David Benioff &amp; D. B. Weiss</td>\n",
       "      <td>David Benioff &amp; D. B. Weiss</td>\n",
       "      <td>May 19, 2019 (2019-05-19)</td>\n",
       "      <td>13.61</td>\n",
       "      <td>8</td>\n",
       "    </tr>\n",
       "  </tbody>\n",
       "</table>\n",
       "<p>73 rows × 8 columns</p>\n",
       "</div>"
      ],
      "text/plain": [
       "    Number_Overall  Number_in_season                                    Title  \\\n",
       "0                1                 1                       \"Winter Is Coming\"   \n",
       "1                2                 2                          \"The Kingsroad\"   \n",
       "2                3                 3                              \"Lord Snow\"   \n",
       "3                4                 4  \"Cripples, Bastards, and Broken Things\"   \n",
       "4                5                 5                  \"The Wolf and the Lion\"   \n",
       "..             ...               ...                                      ...   \n",
       "68              69                 2         \"A Knight of the Seven Kingdoms\"   \n",
       "69              70                 3                         \"The Long Night\"   \n",
       "70              71                 4                 \"The Last of the Starks\"   \n",
       "71              72                 5                              \"The Bells\"   \n",
       "72              73                 6                        \"The Iron Throne\"   \n",
       "\n",
       "                       Director                       Writer  \\\n",
       "0                Tim Van Patten  David Benioff & D. B. Weiss   \n",
       "1                Tim Van Patten  David Benioff & D. B. Weiss   \n",
       "2                    Brian Kirk  David Benioff & D. B. Weiss   \n",
       "3                    Brian Kirk                 Bryan Cogman   \n",
       "4                    Brian Kirk  David Benioff & D. B. Weiss   \n",
       "..                          ...                          ...   \n",
       "68                 David Nutter                 Bryan Cogman   \n",
       "69             Miguel Sapochnik  David Benioff & D. B. Weiss   \n",
       "70                 David Nutter  David Benioff & D. B. Weiss   \n",
       "71             Miguel Sapochnik  David Benioff & D. B. Weiss   \n",
       "72  David Benioff & D. B. Weiss  David Benioff & D. B. Weiss   \n",
       "\n",
       "                       Air_Date  Viewers  Season  \n",
       "0   April 17, 2011 (2011-04-17)     2.22       1  \n",
       "1   April 24, 2011 (2011-04-24)     2.20       1  \n",
       "2      May 1, 2011 (2011-05-01)     2.44       1  \n",
       "3      May 8, 2011 (2011-05-08)     2.45       1  \n",
       "4     May 15, 2011 (2011-05-15)     2.58       1  \n",
       "..                          ...      ...     ...  \n",
       "68  April 21, 2019 (2019-04-21)    10.29       8  \n",
       "69  April 28, 2019 (2019-04-28)    12.02       8  \n",
       "70     May 5, 2019 (2019-05-05)    11.80       8  \n",
       "71    May 12, 2019 (2019-05-12)    12.48       8  \n",
       "72    May 19, 2019 (2019-05-19)    13.61       8  \n",
       "\n",
       "[73 rows x 8 columns]"
      ]
     },
     "execution_count": 30,
     "metadata": {},
     "output_type": "execute_result"
    }
   ],
   "source": [
    "game_of_thrones_df['Season'] = season\n",
    "game_of_thrones_df"
   ]
  },
  {
   "cell_type": "code",
   "execution_count": 12,
   "metadata": {},
   "outputs": [
    {
     "name": "stdout",
     "output_type": "stream",
     "text": [
      "73\n"
     ]
    },
    {
     "data": {
      "text/plain": [
       "<matplotlib.axes._subplots.AxesSubplot at 0x1a4376a4e48>"
      ]
     },
     "execution_count": 12,
     "metadata": {},
     "output_type": "execute_result"
    },
    {
     "data": {
      "image/png": "[encoded data removed]",
      "text/plain": [
       "<Figure size 432x288 with 1 Axes>"
      ]
     },
     "metadata": {
      "needs_background": "light"
     },
     "output_type": "display_data"
    }
   ],
   "source": [
    "print(len(game_of_thrones_df['Viewers']))\n",
    "game_of_thrones_df['Viewers'].hist()"
   ]
  },
  {
   "cell_type": "code",
   "execution_count": 15,
   "metadata": {},
   "outputs": [],
   "source": [
    "export_csv = df.to_csv (r'DSLAB_GOT_WIKI.csv', index = None, header=True)"
   ]
  },
  {
   "cell_type": "markdown",
   "metadata": {},
   "source": [
    "### Average Viewers count in millions for directors"
   ]
  },
  {
   "cell_type": "code",
   "execution_count": 31,
   "metadata": {},
   "outputs": [
    {
     "data": {
      "text/plain": [
       "Director\n",
       "Alan Taylor                     4.517143\n",
       "Alex Graves                     6.230000\n",
       "Alik Sakharov                   5.717500\n",
       "Brian Kirk                      2.490000\n",
       "D. B. Weiss                     6.640000\n",
       "Daniel Minahan                  3.240000\n",
       "Daniel Sackheim                 7.550000\n",
       "David Benioff                   4.720000\n",
       "David Benioff & D. B. Weiss    13.610000\n",
       "David Nutter                    7.475556\n",
       "David Petrarca                  3.775000\n",
       "Jack Bender                     7.300000\n",
       "Jeremy Podeswa                  8.368333\n",
       "Mark Mylod                      7.908333\n",
       "Matt Shakman                   10.445000\n",
       "Michael Slovis                  7.405000\n",
       "Michelle MacLaren               6.020000\n",
       "Miguel Sapochnik                8.910000\n",
       "Neil Marshall                   5.165000\n",
       "Tim Van Patten                  2.210000\n",
       "Name: Viewers, dtype: float64"
      ]
     },
     "execution_count": 31,
     "metadata": {},
     "output_type": "execute_result"
    }
   ],
   "source": [
    "group_dir = game_of_thrones_df.groupby('Director').Viewers.mean()\n",
    "group_dir"
   ]
  },
  {
   "cell_type": "code",
   "execution_count": 17,
   "metadata": {},
   "outputs": [
    {
     "data": {
      "image/png": "[encoded data removed]",
      "text/plain": [
       "<Figure size 360x720 with 1 Axes>"
      ]
     },
     "metadata": {
      "needs_background": "light"
     },
     "output_type": "display_data"
    }
   ],
   "source": [
    "plt.figure(figsize = (5,10))\n",
    "ax = plt.gca()\n",
    "group_dir.plot(kind=\"barh\")\n",
    "plt.grid(axis = 'x', color ='white', linestyle='-')\n",
    "plt.xlabel(\"Viewers in Million\")\n",
    "ax.tick_params(axis='both', which='both',length=0)\n",
    "sns.despine()"
   ]
  },
  {
   "cell_type": "markdown",
   "metadata": {},
   "source": [
    "### Average viewers count in Million for writers"
   ]
  },
  {
   "cell_type": "code",
   "execution_count": 19,
   "metadata": {},
   "outputs": [
    {
     "data": {
      "text/plain": [
       "Writer\n",
       "Bryan Cogman                   6.526364\n",
       "Dave Hill                      9.147500\n",
       "David Benioff & D. B. Weiss    6.534510\n",
       "George R. R. Martin            4.312500\n",
       "Vanessa Taylor                 3.933333\n",
       "Name: Viewers, dtype: float64"
      ]
     },
     "execution_count": 19,
     "metadata": {},
     "output_type": "execute_result"
    }
   ],
   "source": [
    "group_writer = game_of_thrones_df.groupby('Writer').Viewers.mean()\n",
    "group_writer"
   ]
  },
  {
   "cell_type": "code",
   "execution_count": 20,
   "metadata": {},
   "outputs": [
    {
     "data": {
      "image/png": "[encoded data removed]",
      "text/plain": [
       "<Figure size 360x216 with 1 Axes>"
      ]
     },
     "metadata": {
      "needs_background": "light"
     },
     "output_type": "display_data"
    }
   ],
   "source": [
    "plt.figure(figsize = (5,3))\n",
    "ax = plt.gca()\n",
    "group_writer.plot(kind=\"barh\")\n",
    "plt.grid(axis = 'x', color ='white', linestyle='-')\n",
    "plt.xlabel(\"Viewers in Million\")\n",
    "ax.tick_params(axis='both', which='both',length=0)\n",
    "sns.despine()"
   ]
  },
  {
   "cell_type": "markdown",
   "metadata": {},
   "source": [
    "### Gradual increase in viewers count with the release of each episodes"
   ]
  },
  {
   "cell_type": "code",
   "execution_count": 21,
   "metadata": {},
   "outputs": [
    {
     "data": {
      "text/plain": [
       "Text(0, 0.5, 'Number of Viewers')"
      ]
     },
     "execution_count": 21,
     "metadata": {},
     "output_type": "execute_result"
    },
    {
     "data": {
      "image/png": "[encoded data removed]",
      "text/plain": [
       "<Figure size 432x288 with 1 Axes>"
      ]
     },
     "metadata": {
      "needs_background": "light"
     },
     "output_type": "display_data"
    }
   ],
   "source": [
    "sub_data = game_of_thrones_df[['Number_Overall','Viewers']]\n",
    "data_temp = sub_data.sort_values('Number_Overall')\n",
    "plt.plot(data_temp.Number_Overall, data_temp.Viewers, 'o-')\n",
    "plt.xlabel(\"Number of Episode\")\n",
    "plt.ylabel(\"Number of Viewers\")"
   ]
  },
  {
   "cell_type": "code",
   "execution_count": 36,
   "metadata": {},
   "outputs": [],
   "source": [
    "writer_sum = game_of_thrones_df.groupby('Writer')['Viewers'].sum()\n",
    "writer_mean = game_of_thrones_df.groupby('Writer')['Viewers'].mean()"
   ]
  },
  {
   "cell_type": "code",
   "execution_count": 37,
   "metadata": {},
   "outputs": [
    {
     "data": {
      "text/plain": [
       "Text(0.5, 0, 'Average Viewers')"
      ]
     },
     "execution_count": 37,
     "metadata": {},
     "output_type": "execute_result"
    },
    {
     "data": {
      "image/png": "[encoded data removed]",
      "text/plain": [
       "<Figure size 432x288 with 1 Axes>"
      ]
     },
     "metadata": {
      "needs_background": "light"
     },
     "output_type": "display_data"
    }
   ],
   "source": [
    "writer_mean.plot(kind='barh')\n",
    "plt.xlabel('Average Viewers')"
   ]
  },
  {
   "cell_type": "code",
   "execution_count": 38,
   "metadata": {},
   "outputs": [
    {
     "data": {
      "text/plain": [
       "Text(0.5, 0, 'Number of episodes')"
      ]
     },
     "execution_count": 38,
     "metadata": {},
     "output_type": "execute_result"
    },
    {
     "data": {
      "image/png": "[encoded data removed]",
      "text/plain": [
       "<Figure size 432x288 with 1 Axes>"
      ]
     },
     "metadata": {
      "needs_background": "light"
     },
     "output_type": "display_data"
    }
   ],
   "source": [
    "writer_ssn = game_of_thrones_df['Writer'].value_counts()\n",
    "writer_ssn.plot(kind='barh')\n",
    "plt.xlabel('Number of episodes')"
   ]
  },
  {
   "cell_type": "markdown",
   "metadata": {},
   "source": [
    "#### We can see that even though 'David Benioff &D.B. Weiss' wrote the most number of episodes, 'Dave Hill' had the most average views"
   ]
  },
  {
   "cell_type": "markdown",
   "metadata": {},
   "source": [
    "It also shows the David Benioff & D.B. Weiss are the most successful directors in the whole run and Dave Hill is the most successful writer in the whole run"
   ]
  }
 ],
 "metadata": {
  "kernelspec": {
   "display_name": "Python 3",
   "language": "python",
   "name": "python3"
  },
  "language_info": {
   "codemirror_mode": {
    "name": "ipython",
    "version": 3
   },
   "file_extension": ".py",
   "mimetype": "text/x-python",
   "name": "python",
   "nbconvert_exporter": "python",
   "pygments_lexer": "ipython3",
   "version": "3.7.4"
  }
 },
 "nbformat": 4,
 "nbformat_minor": 2
}
